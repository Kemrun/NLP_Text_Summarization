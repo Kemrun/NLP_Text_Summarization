{
  "nbformat": 4,
  "nbformat_minor": 0,
  "metadata": {
    "colab": {
      "provenance": []
    },
    "kernelspec": {
      "name": "python3",
      "display_name": "Python 3"
    },
    "language_info": {
      "name": "python"
    }
  },
  "cells": [
    {
      "cell_type": "markdown",
      "source": [
        "1. Tokenize\n",
        "2. TF-IDF\n",
        "3. Get the scores fot sentences by counting non zero rows from tfidf matrix\n",
        "4. Sort this scores and get first 10"
      ],
      "metadata": {
        "id": "1i9cwXkUbd6u"
      }
    },
    {
      "cell_type": "code",
      "execution_count": null,
      "metadata": {
        "colab": {
          "base_uri": "https://localhost:8080/"
        },
        "id": "Ggqa1YI08Z--",
        "outputId": "1a5fb78f-73b7-4d86-f92a-4c543144f86f"
      },
      "outputs": [
        {
          "output_type": "stream",
          "name": "stdout",
          "text": [
            "--2023-07-19 13:27:52--  https://lazyprogrammer.me/course_files/nlp/bbc_text_cls.csv\n",
            "Resolving lazyprogrammer.me (lazyprogrammer.me)... 104.21.23.210, 172.67.213.166, 2606:4700:3030::ac43:d5a6, ...\n",
            "Connecting to lazyprogrammer.me (lazyprogrammer.me)|104.21.23.210|:443... connected.\n",
            "HTTP request sent, awaiting response... 403 Forbidden\n",
            "2023-07-19 13:27:52 ERROR 403: Forbidden.\n",
            "\n"
          ]
        }
      ],
      "source": [
        "#get data\n",
        "!wget -nc https://lazyprogrammer.me/course_files/nlp/bbc_text_cls.csv"
      ]
    },
    {
      "cell_type": "code",
      "source": [
        "#import\n",
        "import pandas as pd\n",
        "import numpy as np\n",
        "\n",
        "import textwrap\n",
        "import nltk\n",
        "\n",
        "from nltk.corpus import stopwords\n",
        "from nltk import word_tokenize\n",
        "\n",
        "from sklearn.feature_extraction.text import TfidfVectorizer"
      ],
      "metadata": {
        "id": "jd1W06s58lHo"
      },
      "execution_count": null,
      "outputs": []
    },
    {
      "cell_type": "code",
      "source": [
        "nltk.download('punkt')"
      ],
      "metadata": {
        "colab": {
          "base_uri": "https://localhost:8080/"
        },
        "id": "dv-XnoaiC4-m",
        "outputId": "60427b6e-8532-4844-e581-6499da8c890a"
      },
      "execution_count": null,
      "outputs": [
        {
          "output_type": "stream",
          "name": "stderr",
          "text": [
            "[nltk_data] Downloading package punkt to /root/nltk_data...\n",
            "[nltk_data]   Package punkt is already up-to-date!\n"
          ]
        },
        {
          "output_type": "execute_result",
          "data": {
            "text/plain": [
              "True"
            ]
          },
          "metadata": {},
          "execution_count": 12
        }
      ]
    },
    {
      "cell_type": "code",
      "source": [
        "nltk.download('stopwords')"
      ],
      "metadata": {
        "colab": {
          "base_uri": "https://localhost:8080/"
        },
        "id": "hDEwtclmBegW",
        "outputId": "1936f20a-0ee9-4596-c43f-e4a569f9c74c"
      },
      "execution_count": null,
      "outputs": [
        {
          "output_type": "stream",
          "name": "stderr",
          "text": [
            "[nltk_data] Downloading package stopwords to /root/nltk_data...\n",
            "[nltk_data]   Package stopwords is already up-to-date!\n"
          ]
        },
        {
          "output_type": "execute_result",
          "data": {
            "text/plain": [
              "True"
            ]
          },
          "metadata": {},
          "execution_count": 13
        }
      ]
    },
    {
      "cell_type": "code",
      "source": [
        "text = pd.read_csv('bbc_text_cls.csv')\n",
        "df=pd.DataFrame(text)\n",
        "df.head()"
      ],
      "metadata": {
        "colab": {
          "base_uri": "https://localhost:8080/",
          "height": 206
        },
        "id": "0O14V18x82ke",
        "outputId": "c9af408d-3277-463d-f551-d242c7e54c05"
      },
      "execution_count": null,
      "outputs": [
        {
          "output_type": "execute_result",
          "data": {
            "text/plain": [
              "                                                text    labels\n",
              "0  Ad sales boost Time Warner profit\\n\\nQuarterly...  business\n",
              "1  Dollar gains on Greenspan speech\\n\\nThe dollar...  business\n",
              "2  Yukos unit buyer faces loan claim\\n\\nThe owner...  business\n",
              "3  High fuel prices hit BA's profits\\n\\nBritish A...  business\n",
              "4  Pernod takeover talk lifts Domecq\\n\\nShares in...  business"
            ],
            "text/html": [
              "\n",
              "\n",
              "  <div id=\"df-77a855ba-6572-4c4e-ab5a-a25c5c667183\">\n",
              "    <div class=\"colab-df-container\">\n",
              "      <div>\n",
              "<style scoped>\n",
              "    .dataframe tbody tr th:only-of-type {\n",
              "        vertical-align: middle;\n",
              "    }\n",
              "\n",
              "    .dataframe tbody tr th {\n",
              "        vertical-align: top;\n",
              "    }\n",
              "\n",
              "    .dataframe thead th {\n",
              "        text-align: right;\n",
              "    }\n",
              "</style>\n",
              "<table border=\"1\" class=\"dataframe\">\n",
              "  <thead>\n",
              "    <tr style=\"text-align: right;\">\n",
              "      <th></th>\n",
              "      <th>text</th>\n",
              "      <th>labels</th>\n",
              "    </tr>\n",
              "  </thead>\n",
              "  <tbody>\n",
              "    <tr>\n",
              "      <th>0</th>\n",
              "      <td>Ad sales boost Time Warner profit\\n\\nQuarterly...</td>\n",
              "      <td>business</td>\n",
              "    </tr>\n",
              "    <tr>\n",
              "      <th>1</th>\n",
              "      <td>Dollar gains on Greenspan speech\\n\\nThe dollar...</td>\n",
              "      <td>business</td>\n",
              "    </tr>\n",
              "    <tr>\n",
              "      <th>2</th>\n",
              "      <td>Yukos unit buyer faces loan claim\\n\\nThe owner...</td>\n",
              "      <td>business</td>\n",
              "    </tr>\n",
              "    <tr>\n",
              "      <th>3</th>\n",
              "      <td>High fuel prices hit BA's profits\\n\\nBritish A...</td>\n",
              "      <td>business</td>\n",
              "    </tr>\n",
              "    <tr>\n",
              "      <th>4</th>\n",
              "      <td>Pernod takeover talk lifts Domecq\\n\\nShares in...</td>\n",
              "      <td>business</td>\n",
              "    </tr>\n",
              "  </tbody>\n",
              "</table>\n",
              "</div>\n",
              "      <button class=\"colab-df-convert\" onclick=\"convertToInteractive('df-77a855ba-6572-4c4e-ab5a-a25c5c667183')\"\n",
              "              title=\"Convert this dataframe to an interactive table.\"\n",
              "              style=\"display:none;\">\n",
              "\n",
              "  <svg xmlns=\"http://www.w3.org/2000/svg\" height=\"24px\"viewBox=\"0 0 24 24\"\n",
              "       width=\"24px\">\n",
              "    <path d=\"M0 0h24v24H0V0z\" fill=\"none\"/>\n",
              "    <path d=\"M18.56 5.44l.94 2.06.94-2.06 2.06-.94-2.06-.94-.94-2.06-.94 2.06-2.06.94zm-11 1L8.5 8.5l.94-2.06 2.06-.94-2.06-.94L8.5 2.5l-.94 2.06-2.06.94zm10 10l.94 2.06.94-2.06 2.06-.94-2.06-.94-.94-2.06-.94 2.06-2.06.94z\"/><path d=\"M17.41 7.96l-1.37-1.37c-.4-.4-.92-.59-1.43-.59-.52 0-1.04.2-1.43.59L10.3 9.45l-7.72 7.72c-.78.78-.78 2.05 0 2.83L4 21.41c.39.39.9.59 1.41.59.51 0 1.02-.2 1.41-.59l7.78-7.78 2.81-2.81c.8-.78.8-2.07 0-2.86zM5.41 20L4 18.59l7.72-7.72 1.47 1.35L5.41 20z\"/>\n",
              "  </svg>\n",
              "      </button>\n",
              "\n",
              "\n",
              "\n",
              "    <div id=\"df-82293326-2bdb-4f85-912a-acde2317dbd6\">\n",
              "      <button class=\"colab-df-quickchart\" onclick=\"quickchart('df-82293326-2bdb-4f85-912a-acde2317dbd6')\"\n",
              "              title=\"Suggest charts.\"\n",
              "              style=\"display:none;\">\n",
              "\n",
              "<svg xmlns=\"http://www.w3.org/2000/svg\" height=\"24px\"viewBox=\"0 0 24 24\"\n",
              "     width=\"24px\">\n",
              "    <g>\n",
              "        <path d=\"M19 3H5c-1.1 0-2 .9-2 2v14c0 1.1.9 2 2 2h14c1.1 0 2-.9 2-2V5c0-1.1-.9-2-2-2zM9 17H7v-7h2v7zm4 0h-2V7h2v10zm4 0h-2v-4h2v4z\"/>\n",
              "    </g>\n",
              "</svg>\n",
              "      </button>\n",
              "    </div>\n",
              "\n",
              "<style>\n",
              "  .colab-df-quickchart {\n",
              "    background-color: #E8F0FE;\n",
              "    border: none;\n",
              "    border-radius: 50%;\n",
              "    cursor: pointer;\n",
              "    display: none;\n",
              "    fill: #1967D2;\n",
              "    height: 32px;\n",
              "    padding: 0 0 0 0;\n",
              "    width: 32px;\n",
              "  }\n",
              "\n",
              "  .colab-df-quickchart:hover {\n",
              "    background-color: #E2EBFA;\n",
              "    box-shadow: 0px 1px 2px rgba(60, 64, 67, 0.3), 0px 1px 3px 1px rgba(60, 64, 67, 0.15);\n",
              "    fill: #174EA6;\n",
              "  }\n",
              "\n",
              "  [theme=dark] .colab-df-quickchart {\n",
              "    background-color: #3B4455;\n",
              "    fill: #D2E3FC;\n",
              "  }\n",
              "\n",
              "  [theme=dark] .colab-df-quickchart:hover {\n",
              "    background-color: #434B5C;\n",
              "    box-shadow: 0px 1px 3px 1px rgba(0, 0, 0, 0.15);\n",
              "    filter: drop-shadow(0px 1px 2px rgba(0, 0, 0, 0.3));\n",
              "    fill: #FFFFFF;\n",
              "  }\n",
              "</style>\n",
              "\n",
              "    <script>\n",
              "      async function quickchart(key) {\n",
              "        const containerElement = document.querySelector('#' + key);\n",
              "        const charts = await google.colab.kernel.invokeFunction(\n",
              "            'suggestCharts', [key], {});\n",
              "      }\n",
              "    </script>\n",
              "\n",
              "      <script>\n",
              "\n",
              "function displayQuickchartButton(domScope) {\n",
              "  let quickchartButtonEl =\n",
              "    domScope.querySelector('#df-82293326-2bdb-4f85-912a-acde2317dbd6 button.colab-df-quickchart');\n",
              "  quickchartButtonEl.style.display =\n",
              "    google.colab.kernel.accessAllowed ? 'block' : 'none';\n",
              "}\n",
              "\n",
              "        displayQuickchartButton(document);\n",
              "      </script>\n",
              "      <style>\n",
              "    .colab-df-container {\n",
              "      display:flex;\n",
              "      flex-wrap:wrap;\n",
              "      gap: 12px;\n",
              "    }\n",
              "\n",
              "    .colab-df-convert {\n",
              "      background-color: #E8F0FE;\n",
              "      border: none;\n",
              "      border-radius: 50%;\n",
              "      cursor: pointer;\n",
              "      display: none;\n",
              "      fill: #1967D2;\n",
              "      height: 32px;\n",
              "      padding: 0 0 0 0;\n",
              "      width: 32px;\n",
              "    }\n",
              "\n",
              "    .colab-df-convert:hover {\n",
              "      background-color: #E2EBFA;\n",
              "      box-shadow: 0px 1px 2px rgba(60, 64, 67, 0.3), 0px 1px 3px 1px rgba(60, 64, 67, 0.15);\n",
              "      fill: #174EA6;\n",
              "    }\n",
              "\n",
              "    [theme=dark] .colab-df-convert {\n",
              "      background-color: #3B4455;\n",
              "      fill: #D2E3FC;\n",
              "    }\n",
              "\n",
              "    [theme=dark] .colab-df-convert:hover {\n",
              "      background-color: #434B5C;\n",
              "      box-shadow: 0px 1px 3px 1px rgba(0, 0, 0, 0.15);\n",
              "      filter: drop-shadow(0px 1px 2px rgba(0, 0, 0, 0.3));\n",
              "      fill: #FFFFFF;\n",
              "    }\n",
              "  </style>\n",
              "\n",
              "      <script>\n",
              "        const buttonEl =\n",
              "          document.querySelector('#df-77a855ba-6572-4c4e-ab5a-a25c5c667183 button.colab-df-convert');\n",
              "        buttonEl.style.display =\n",
              "          google.colab.kernel.accessAllowed ? 'block' : 'none';\n",
              "\n",
              "        async function convertToInteractive(key) {\n",
              "          const element = document.querySelector('#df-77a855ba-6572-4c4e-ab5a-a25c5c667183');\n",
              "          const dataTable =\n",
              "            await google.colab.kernel.invokeFunction('convertToInteractive',\n",
              "                                                     [key], {});\n",
              "          if (!dataTable) return;\n",
              "\n",
              "          const docLinkHtml = 'Like what you see? Visit the ' +\n",
              "            '<a target=\"_blank\" href=https://colab.research.google.com/notebooks/data_table.ipynb>data table notebook</a>'\n",
              "            + ' to learn more about interactive tables.';\n",
              "          element.innerHTML = '';\n",
              "          dataTable['output_type'] = 'display_data';\n",
              "          await google.colab.output.renderOutput(dataTable, element);\n",
              "          const docLink = document.createElement('div');\n",
              "          docLink.innerHTML = docLinkHtml;\n",
              "          element.appendChild(docLink);\n",
              "        }\n",
              "      </script>\n",
              "    </div>\n",
              "  </div>\n"
            ]
          },
          "metadata": {},
          "execution_count": 21
        }
      ]
    },
    {
      "cell_type": "code",
      "source": [
        "featurizer = TfidfVectorizer(stop_words=stopwords.words('english'), norm='l1')\n",
        "#l1 norm sum of the vectors as well as manhattan distance\n",
        "#none is no normaliziation"
      ],
      "metadata": {
        "id": "Qy18DXEvBCHh"
      },
      "execution_count": null,
      "outputs": []
    },
    {
      "cell_type": "code",
      "source": [
        "def get_sentence_score(tfidf_row):\n",
        "\n",
        "  x = tfidf_row[tfidf_row != 0]\n",
        "  return x.mean()"
      ],
      "metadata": {
        "id": "OySI3jmVCLM_"
      },
      "execution_count": null,
      "outputs": []
    },
    {
      "cell_type": "code",
      "source": [
        "def wrap(x):\n",
        "  return textwrap.fill(x, replace_whitespace=False, fix_sentence_endings=True)\n",
        "'''Функция wrap() модуля textwrap разбивает один абзац text по строкам так,\n",
        "что каждая строка имеет не более width символов длиной. Возвращает список строк,\n",
        "без завершающего символа новой строки \\n.'''"
      ],
      "metadata": {
        "id": "fhUDaqv5CepQ",
        "colab": {
          "base_uri": "https://localhost:8080/",
          "height": 53
        },
        "outputId": "3d69a0ad-0e35-4655-842b-a15c628b9735"
      },
      "execution_count": null,
      "outputs": [
        {
          "output_type": "execute_result",
          "data": {
            "text/plain": [
              "'Функция wrap() модуля textwrap разбивает один абзац text по строкам так,\\nчто каждая строка имеет не более width символов длиной. Возвращает список строк,\\nбез завершающего символа новой строки \\n.'"
            ],
            "application/vnd.google.colaboratory.intrinsic+json": {
              "type": "string"
            }
          },
          "metadata": {},
          "execution_count": 17
        }
      ]
    },
    {
      "cell_type": "code",
      "source": [
        "def summarize (input):\n",
        "  tokened = nltk.sent_tokenize(input)\n",
        "\n",
        "  tf_idf = featurizer.fit_transform(tokened)\n",
        "\n",
        "  scores=np.zeros(len(tokened))\n",
        "\n",
        "  for i in range(len(tokened)):\n",
        "    score = get_sentence_score(tf_idf[i,:]) #We index the tfidf m by grabbing the ith row and passing this into the\n",
        "     #function called to get_sentence score.\n",
        "\n",
        "\n",
        "    scores[i]=score\n",
        "\n",
        "  sort_idx = np.argsort(-scores) #descending order. get only indexes\n",
        "\n",
        "  for i in sort_idx[:10]:\n",
        "    print(wrap(\"%.2f: %s\" % (scores[i], tokened[i])))"
      ],
      "metadata": {
        "id": "0q5mjHRn9sNI"
      },
      "execution_count": null,
      "outputs": []
    },
    {
      "cell_type": "code",
      "source": [
        "doc = df[df.labels == 'entertainment']['text'].sample(random_state=23)\n",
        "summarize(doc.iloc[0].split(\"\\n\", 1)[1])"
      ],
      "metadata": {
        "colab": {
          "base_uri": "https://localhost:8080/"
        },
        "id": "YAKtAEemChyy",
        "outputId": "56795908-6c96-4de3-bab4-e812bc659f4e"
      },
      "execution_count": null,
      "outputs": [
        {
          "output_type": "stream",
          "name": "stdout",
          "text": [
            "0.08: \n",
            "Film comedy Meet The Fockers, sequel to Meet The Parents, has\n",
            "topped the US box office for a third week.\n",
            "0.08: Michael Keaton thriller White Noise was second with $24m\n",
            "(£12.8m) despite negative reviews.\n",
            "0.08: It is also the ninth Jim Carrey film to hit the $100m (£53.2m)\n",
            "mark, according to Exhibitor Relations.\n",
            "0.07: Martin Scorsese's Howard Hughes biopic The Aviator came third\n",
            "with $7.6m (£4m) and a total of $42.9m (£22.8m).\n",
            "0.05: Children's adventure Lemony Snicket's A Series of Unfortunate\n",
            "Events, starring Jim Carrey and Meryl Streep, fell two places to\n",
            "fourth position with $7.4m (£3.9m).\n",
            "0.05: The Incredibles took $300m (£160m) outside the US, while Meet\n",
            "the Fockers topped box office charts in Australia and Mexico with non-\n",
            "US takings of $19.35m (£10.2m).\n",
            "0.05: And Fat Albert, a live-action adaptation of Bill Cosby's TV\n",
            "cartoon, fell one place to number five, with takings over the three\n",
            "days beginning on Friday of $5m (£2.6m).\n",
            "0.05: The movie, which stars Ben Stiller, Robert De Niro, Dustin\n",
            "Hoffman and Barbra Streisand, took $28.5m (£15.2m), making a total of\n",
            "204.3m (£109m).\n",
            "0.05: Ocean's Twelve took sixth place in the US chart with $5.4m\n",
            "(£2.8m), but it led the non-US chart at the weekend, according to\n",
            "Hollywood Reporter, with an estimated $17.7m (£9.4m) and total takings\n",
            "of $137m (£73m).\n"
          ]
        }
      ]
    },
    {
      "cell_type": "code",
      "source": [
        "doc.iloc[0].split(\"\\n\",1)[0]"
      ],
      "metadata": {
        "colab": {
          "base_uri": "https://localhost:8080/",
          "height": 36
        },
        "id": "xhHvjpdEC2lc",
        "outputId": "332ebab9-99b6-4d40-e45f-11724109fe57"
      },
      "execution_count": null,
      "outputs": [
        {
          "output_type": "execute_result",
          "data": {
            "text/plain": [
              "'Fockers keeps US box office lead'"
            ],
            "application/vnd.google.colaboratory.intrinsic+json": {
              "type": "string"
            }
          },
          "metadata": {},
          "execution_count": 24
        }
      ]
    },
    {
      "cell_type": "code",
      "source": [
        "print(wrap(doc.iloc[0]))"
      ],
      "metadata": {
        "colab": {
          "base_uri": "https://localhost:8080/"
        },
        "id": "-dRyDQYvDAoL",
        "outputId": "69d80bfa-a7f7-49a5-92f2-b2a56bb83292"
      },
      "execution_count": null,
      "outputs": [
        {
          "output_type": "stream",
          "name": "stdout",
          "text": [
            "Fockers keeps US box office lead\n",
            "\n",
            "Film comedy Meet The Fockers, sequel\n",
            "to Meet The Parents, has topped the US box office for a third week.\n",
            "The movie, which stars Ben Stiller, Robert De Niro, Dustin Hoffman and\n",
            "Barbra Streisand, took $28.5m (£15.2m), making a total of 204.3m\n",
            "(£109m). Michael Keaton thriller White Noise was second with $24m\n",
            "(£12.8m) despite negative reviews.  Martin Scorsese's Howard Hughes\n",
            "biopic The Aviator came third with $7.6m (£4m) and a total of $42.9m\n",
            "(£22.8m). Children's adventure Lemony Snicket's A Series of\n",
            "Unfortunate Events, starring Jim Carrey and Meryl Streep, fell two\n",
            "places to fourth position with $7.4m (£3.9m).\n",
            "\n",
            "It is also the ninth\n",
            "Jim Carrey film to hit the $100m (£53.2m) mark, according to Exhibitor\n",
            "Relations.  And Fat Albert, a live-action adaptation of Bill Cosby's\n",
            "TV cartoon, fell one place to number five, with takings over the three\n",
            "days beginning on Friday of $5m (£2.6m). Ocean's Twelve took sixth\n",
            "place in the US chart with $5.4m (£2.8m), but it led the non-US chart\n",
            "at the weekend, according to Hollywood Reporter, with an estimated\n",
            "$17.7m (£9.4m) and total takings of $137m (£73m). The Incredibles took\n",
            "$300m (£160m) outside the US, while Meet the Fockers topped box office\n",
            "charts in Australia and Mexico with non-US takings of $19.35m\n",
            "(£10.2m).\n"
          ]
        }
      ]
    },
    {
      "cell_type": "code",
      "source": [
        "doc.iloc[0]"
      ],
      "metadata": {
        "id": "chSnQ0nVcXpY",
        "colab": {
          "base_uri": "https://localhost:8080/",
          "height": 156
        },
        "outputId": "fd6d093d-a4a3-4d3d-c8ab-e14ab7378f64"
      },
      "execution_count": null,
      "outputs": [
        {
          "output_type": "execute_result",
          "data": {
            "text/plain": [
              "\"Fockers keeps US box office lead\\n\\nFilm comedy Meet The Fockers, sequel to Meet The Parents, has topped the US box office for a third week.\\n\\nThe movie, which stars Ben Stiller, Robert De Niro, Dustin Hoffman and Barbra Streisand, took $28.5m (£15.2m), making a total of 204.3m (£109m). Michael Keaton thriller White Noise was second with $24m (£12.8m) despite negative reviews. Martin Scorsese's Howard Hughes biopic The Aviator came third with $7.6m (£4m) and a total of $42.9m (£22.8m). Children's adventure Lemony Snicket's A Series of Unfortunate Events, starring Jim Carrey and Meryl Streep, fell two places to fourth position with $7.4m (£3.9m).\\n\\nIt is also the ninth Jim Carrey film to hit the $100m (£53.2m) mark, according to Exhibitor Relations. And Fat Albert, a live-action adaptation of Bill Cosby's TV cartoon, fell one place to number five, with takings over the three days beginning on Friday of $5m (£2.6m). Ocean's Twelve took sixth place in the US chart with $5.4m (£2.8m), but it led the non-US chart at the weekend, according to Hollywood Reporter, with an estimated $17.7m (£9.4m) and total takings of $137m (£73m). The Incredibles took $300m (£160m) outside the US, while Meet the Fockers topped box office charts in Australia and Mexico with non-US takings of $19.35m (£10.2m).\""
            ],
            "application/vnd.google.colaboratory.intrinsic+json": {
              "type": "string"
            }
          },
          "metadata": {},
          "execution_count": 14
        }
      ]
    },
    {
      "cell_type": "code",
      "source": [],
      "metadata": {
        "id": "_546qbngu9Gm"
      },
      "execution_count": null,
      "outputs": []
    }
  ]
}